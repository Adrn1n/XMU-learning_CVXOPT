{
 "cells": [
  {
   "cell_type": "code",
   "execution_count": 1,
   "id": "99d8e9a4",
   "metadata": {},
   "outputs": [],
   "source": [
    "import numpy as np\n",
    "from scipy.optimize import linprog"
   ]
  },
  {
   "cell_type": "markdown",
   "id": "3ae1c02c",
   "metadata": {},
   "source": [
    "# 1.\n"
   ]
  },
  {
   "cell_type": "code",
   "execution_count": 4,
   "id": "7b1c8f1c",
   "metadata": {},
   "outputs": [],
   "source": [
    "c = -np.array([0.1, 0.2])\n",
    "A = np.array([[1, 1], [10, 30]])\n",
    "b = np.array([10000, 180000])\n",
    "x1_bounds = (1000, None)\n",
    "x2_bounds = (2000, None)\n",
    "\n",
    "bounds = [x1_bounds, x2_bounds]"
   ]
  },
  {
   "cell_type": "code",
   "execution_count": 5,
   "id": "2ccd3c0a",
   "metadata": {},
   "outputs": [
    {
     "data": {
      "text/plain": [
       "        message: Optimization terminated successfully. (HiGHS Status 7: Optimal)\n",
       "        success: True\n",
       "         status: 0\n",
       "            fun: -1400.0\n",
       "              x: [ 6.000e+03  4.000e+03]\n",
       "            nit: 2\n",
       "          lower:  residual: [ 5.000e+03  2.000e+03]\n",
       "                 marginals: [ 0.000e+00  0.000e+00]\n",
       "          upper:  residual: [       inf        inf]\n",
       "                 marginals: [ 0.000e+00  0.000e+00]\n",
       "          eqlin:  residual: []\n",
       "                 marginals: []\n",
       "        ineqlin:  residual: [ 0.000e+00  0.000e+00]\n",
       "                 marginals: [-5.000e-02 -5.000e-03]\n",
       " mip_node_count: 0\n",
       " mip_dual_bound: 0.0\n",
       "        mip_gap: 0.0"
      ]
     },
     "metadata": {},
     "output_type": "display_data"
    }
   ],
   "source": [
    "result = linprog(c, A_ub=A, b_ub=b, bounds=bounds)\n",
    "display(result)"
   ]
  },
  {
   "cell_type": "code",
   "execution_count": null,
   "id": "b16e3a2c",
   "metadata": {},
   "outputs": [],
   "source": []
  }
 ],
 "metadata": {
  "kernelspec": {
   "display_name": "XMU_CVXOPT",
   "language": "python",
   "name": "python3"
  },
  "language_info": {
   "codemirror_mode": {
    "name": "ipython",
    "version": 3
   },
   "file_extension": ".py",
   "mimetype": "text/x-python",
   "name": "python",
   "nbconvert_exporter": "python",
   "pygments_lexer": "ipython3",
   "version": "3.11.13"
  }
 },
 "nbformat": 4,
 "nbformat_minor": 5
}
