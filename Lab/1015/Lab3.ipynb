{
 "cells": [
  {
   "cell_type": "code",
   "execution_count": 1,
   "id": "99d8e9a4",
   "metadata": {},
   "outputs": [],
   "source": [
    "import numpy as np\n",
    "from scipy.optimize import linprog"
   ]
  },
  {
   "cell_type": "markdown",
   "id": "3ae1c02c",
   "metadata": {},
   "source": [
    "# 1.\n"
   ]
  },
  {
   "cell_type": "code",
   "execution_count": 2,
   "id": "7b1c8f1c",
   "metadata": {},
   "outputs": [],
   "source": [
    "c = -np.array([0.1, 0.2])\n",
    "A = np.array([[1, 1], [10, 30]])\n",
    "b = np.array([10000, 180000])\n",
    "x1_bounds = (1000, None)\n",
    "x2_bounds = (2000, None)\n",
    "\n",
    "bounds = [x1_bounds, x2_bounds]"
   ]
  },
  {
   "cell_type": "code",
   "execution_count": 3,
   "id": "2ccd3c0a",
   "metadata": {},
   "outputs": [
    {
     "data": {
      "text/plain": [
       "        message: Optimization terminated successfully. (HiGHS Status 7: Optimal)\n",
       "        success: True\n",
       "         status: 0\n",
       "            fun: -1400.0\n",
       "              x: [ 6.000e+03  4.000e+03]\n",
       "            nit: 2\n",
       "          lower:  residual: [ 5.000e+03  2.000e+03]\n",
       "                 marginals: [ 0.000e+00  0.000e+00]\n",
       "          upper:  residual: [       inf        inf]\n",
       "                 marginals: [ 0.000e+00  0.000e+00]\n",
       "          eqlin:  residual: []\n",
       "                 marginals: []\n",
       "        ineqlin:  residual: [ 0.000e+00  0.000e+00]\n",
       "                 marginals: [-5.000e-02 -5.000e-03]\n",
       " mip_node_count: 0\n",
       " mip_dual_bound: 0.0\n",
       "        mip_gap: 0.0"
      ]
     },
     "metadata": {},
     "output_type": "display_data"
    }
   ],
   "source": [
    "result = linprog(c, A_ub=A, b_ub=b, bounds=bounds)\n",
    "display(result)"
   ]
  },
  {
   "cell_type": "markdown",
   "id": "f085912c",
   "metadata": {},
   "source": [
    "# 2.\n"
   ]
  },
  {
   "cell_type": "markdown",
   "id": "b91a3812",
   "metadata": {},
   "source": [
    "## (1)\n"
   ]
  },
  {
   "cell_type": "code",
   "execution_count": 4,
   "id": "b16e3a2c",
   "metadata": {},
   "outputs": [],
   "source": [
    "c = np.array([0.18, 0.23, 0.05])\n",
    "A = np.array([[-107, -500, -0], [107, 500, 0], [-72, -121, -65], [72, 121, 65]])\n",
    "b = np.array([-5000, 50000, -2000, 2250])\n",
    "x1_bounds = (0, 10)\n",
    "x2_bounds = (0, 10)\n",
    "x3_bounds = (0, 10)\n",
    "bounds = [x1_bounds, x2_bounds, x3_bounds]"
   ]
  },
  {
   "cell_type": "code",
   "execution_count": 5,
   "id": "b8d7d6eb",
   "metadata": {},
   "outputs": [
    {
     "data": {
      "text/plain": [
       "        message: Optimization terminated successfully. (HiGHS Status 7: Optimal)\n",
       "        success: True\n",
       "         status: 0\n",
       "            fun: 3.15\n",
       "              x: [ 1.944e+00  1.000e+01  1.000e+01]\n",
       "            nit: 3\n",
       "          lower:  residual: [ 1.944e+00  1.000e+01  1.000e+01]\n",
       "                 marginals: [ 0.000e+00  0.000e+00  0.000e+00]\n",
       "          upper:  residual: [ 8.056e+00  0.000e+00  0.000e+00]\n",
       "                 marginals: [ 0.000e+00 -7.250e-02 -1.125e-01]\n",
       "          eqlin:  residual: []\n",
       "                 marginals: []\n",
       "        ineqlin:  residual: [ 2.081e+02  4.479e+04  0.000e+00  2.500e+02]\n",
       "                 marginals: [-0.000e+00 -0.000e+00 -2.500e-03 -0.000e+00]\n",
       " mip_node_count: 0\n",
       " mip_dual_bound: 0.0\n",
       "        mip_gap: 0.0"
      ]
     },
     "metadata": {},
     "output_type": "display_data"
    }
   ],
   "source": [
    "result = linprog(c, A_ub=A, b_ub=b, bounds=bounds)\n",
    "display(result)"
   ]
  },
  {
   "cell_type": "markdown",
   "id": "090c83f6",
   "metadata": {},
   "source": [
    "## (2)\n"
   ]
  },
  {
   "cell_type": "code",
   "execution_count": 6,
   "id": "e3d645c6",
   "metadata": {},
   "outputs": [],
   "source": [
    "c = -np.array([2.50, 2.00])\n",
    "A = np.array([[1 / 100, 2 / 100], [5 / 100, 3 / 100]])\n",
    "b = np.array([65, 150])\n",
    "x1_bounds = (0, None)\n",
    "x2_bounds = (0, None)\n",
    "bounds = [x1_bounds, x2_bounds]"
   ]
  },
  {
   "cell_type": "code",
   "execution_count": 7,
   "id": "ef6b9bd7",
   "metadata": {},
   "outputs": [
    {
     "data": {
      "text/plain": [
       "        message: Optimization terminated successfully. (HiGHS Status 7: Optimal)\n",
       "        success: True\n",
       "         status: 0\n",
       "            fun: -8750.000000000002\n",
       "              x: [ 1.500e+03  2.500e+03]\n",
       "            nit: 2\n",
       "          lower:  residual: [ 1.500e+03  2.500e+03]\n",
       "                 marginals: [ 0.000e+00  0.000e+00]\n",
       "          upper:  residual: [       inf        inf]\n",
       "                 marginals: [ 0.000e+00  0.000e+00]\n",
       "          eqlin:  residual: []\n",
       "                 marginals: []\n",
       "        ineqlin:  residual: [ 0.000e+00  0.000e+00]\n",
       "                 marginals: [-3.571e+01 -4.286e+01]\n",
       " mip_node_count: 0\n",
       " mip_dual_bound: 0.0\n",
       "        mip_gap: 0.0"
      ]
     },
     "metadata": {},
     "output_type": "display_data"
    }
   ],
   "source": [
    "result = linprog(c, A_ub=A, b_ub=b, bounds=bounds)\n",
    "display(result)"
   ]
  },
  {
   "cell_type": "markdown",
   "id": "0192d804",
   "metadata": {},
   "source": [
    "## (1)\n"
   ]
  },
  {
   "cell_type": "code",
   "execution_count": 8,
   "id": "f679407d",
   "metadata": {},
   "outputs": [],
   "source": [
    "c = -np.array([3, 5])\n",
    "A = np.array([[3, 1], [1, 1], [1, 2]])\n",
    "b = np.array([6, 4, 6])\n",
    "x1_bounds = (0, None)\n",
    "x2_bounds = (0, None)\n",
    "bounds = [x1_bounds, x2_bounds]"
   ]
  },
  {
   "cell_type": "code",
   "execution_count": 9,
   "id": "f1640b92",
   "metadata": {},
   "outputs": [
    {
     "data": {
      "text/plain": [
       "        message: Optimization terminated successfully. (HiGHS Status 7: Optimal)\n",
       "        success: True\n",
       "         status: 0\n",
       "            fun: -15.600000000000001\n",
       "              x: [ 1.200e+00  2.400e+00]\n",
       "            nit: 2\n",
       "          lower:  residual: [ 1.200e+00  2.400e+00]\n",
       "                 marginals: [ 0.000e+00  0.000e+00]\n",
       "          upper:  residual: [       inf        inf]\n",
       "                 marginals: [ 0.000e+00  0.000e+00]\n",
       "          eqlin:  residual: []\n",
       "                 marginals: []\n",
       "        ineqlin:  residual: [ 0.000e+00  4.000e-01  0.000e+00]\n",
       "                 marginals: [-2.000e-01 -0.000e+00 -2.400e+00]\n",
       " mip_node_count: 0\n",
       " mip_dual_bound: 0.0\n",
       "        mip_gap: 0.0"
      ]
     },
     "metadata": {},
     "output_type": "display_data"
    }
   ],
   "source": [
    "result = linprog(c, A_ub=A, b_ub=b, bounds=bounds)\n",
    "display(result)"
   ]
  },
  {
   "cell_type": "markdown",
   "id": "6f37b82b",
   "metadata": {},
   "source": [
    "## (2)\n"
   ]
  },
  {
   "cell_type": "code",
   "execution_count": 10,
   "id": "3336b135",
   "metadata": {},
   "outputs": [],
   "source": [
    "c = -np.array([12, 8, 10])\n",
    "A = np.array([[3, 2, 1], [5, 4, 3], [1, 1, 0]])\n",
    "b = np.array([120, 300, 50])\n",
    "x1_bounds = (0, None)\n",
    "x2_bounds = (0, None)\n",
    "x3_bounds = (0, None)\n",
    "bounds = [x1_bounds, x2_bounds, x3_bounds]"
   ]
  },
  {
   "cell_type": "code",
   "execution_count": 11,
   "id": "4d2343e1",
   "metadata": {},
   "outputs": [
    {
     "data": {
      "text/plain": [
       "        message: Optimization terminated successfully. (HiGHS Status 7: Optimal)\n",
       "        success: True\n",
       "         status: 0\n",
       "            fun: -1000.0\n",
       "              x: [ 0.000e+00  0.000e+00  1.000e+02]\n",
       "            nit: 1\n",
       "          lower:  residual: [ 0.000e+00  0.000e+00  1.000e+02]\n",
       "                 marginals: [ 4.667e+00  5.333e+00  0.000e+00]\n",
       "          upper:  residual: [       inf        inf        inf]\n",
       "                 marginals: [ 0.000e+00  0.000e+00  0.000e+00]\n",
       "          eqlin:  residual: []\n",
       "                 marginals: []\n",
       "        ineqlin:  residual: [ 2.000e+01  0.000e+00  5.000e+01]\n",
       "                 marginals: [-0.000e+00 -3.333e+00 -0.000e+00]\n",
       " mip_node_count: 0\n",
       " mip_dual_bound: 0.0\n",
       "        mip_gap: 0.0"
      ]
     },
     "metadata": {},
     "output_type": "display_data"
    }
   ],
   "source": [
    "result = linprog(c, A_ub=A, b_ub=b, bounds=bounds)\n",
    "display(result)"
   ]
  },
  {
   "cell_type": "markdown",
   "id": "279819d7",
   "metadata": {},
   "source": [
    "## (3)\n"
   ]
  },
  {
   "cell_type": "code",
   "execution_count": 12,
   "id": "ed53906f",
   "metadata": {},
   "outputs": [],
   "source": [
    "c = -np.array([4, 6, 3, 1])\n",
    "A = np.array([[1.5, 2, 4, 3], [4, 1, 2, 1], [2, 3, 1, 2]])\n",
    "b = np.array([550, 700, 200])\n",
    "x1_bounds = (0, None)\n",
    "x2_bounds = (0, None)\n",
    "x3_bounds = (0, None)\n",
    "x4_bounds = (0, None)\n",
    "bounds = [x1_bounds, x2_bounds, x3_bounds, x4_bounds]"
   ]
  },
  {
   "cell_type": "code",
   "execution_count": 13,
   "id": "c1d95700",
   "metadata": {},
   "outputs": [
    {
     "data": {
      "text/plain": [
       "        message: Optimization terminated successfully. (HiGHS Status 7: Optimal)\n",
       "        success: True\n",
       "         status: 0\n",
       "            fun: -525.0\n",
       "              x: [ 0.000e+00  2.500e+01  1.250e+02  0.000e+00]\n",
       "            nit: 2\n",
       "          lower:  residual: [ 0.000e+00  2.500e+01  1.250e+02  0.000e+00]\n",
       "                 marginals: [ 5.000e-02  0.000e+00  0.000e+00  3.500e+00]\n",
       "          upper:  residual: [       inf        inf        inf        inf]\n",
       "                 marginals: [ 0.000e+00  0.000e+00  0.000e+00  0.000e+00]\n",
       "          eqlin:  residual: []\n",
       "                 marginals: []\n",
       "        ineqlin:  residual: [ 0.000e+00  4.250e+02  0.000e+00]\n",
       "                 marginals: [-3.000e-01 -0.000e+00 -1.800e+00]\n",
       " mip_node_count: 0\n",
       " mip_dual_bound: 0.0\n",
       "        mip_gap: 0.0"
      ]
     },
     "metadata": {},
     "output_type": "display_data"
    }
   ],
   "source": [
    "result = linprog(c, A_ub=A, b_ub=b, bounds=bounds)\n",
    "display(result)"
   ]
  },
  {
   "cell_type": "code",
   "execution_count": null,
   "id": "a9cac038",
   "metadata": {},
   "outputs": [],
   "source": []
  }
 ],
 "metadata": {
  "kernelspec": {
   "display_name": "XMU_CVXOPT",
   "language": "python",
   "name": "python3"
  },
  "language_info": {
   "codemirror_mode": {
    "name": "ipython",
    "version": 3
   },
   "file_extension": ".py",
   "mimetype": "text/x-python",
   "name": "python",
   "nbconvert_exporter": "python",
   "pygments_lexer": "ipython3",
   "version": "3.11.13"
  }
 },
 "nbformat": 4,
 "nbformat_minor": 5
}
